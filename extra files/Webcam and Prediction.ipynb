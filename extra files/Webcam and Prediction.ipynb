{
 "cells": [
  {
   "cell_type": "code",
   "execution_count": 1,
   "metadata": {
    "collapsed": true
   },
   "outputs": [],
   "source": [
    "import numpy as np\n",
    "import pandas as pd\n",
    "import matplotlib.pyplot as plt\n",
    "import dlib\n",
    "from imutils import face_utils\n",
    "import imutils\n",
    "import cv2\n",
    "import easydict\n",
    "import keyboard"
   ]
  },
  {
   "cell_type": "code",
   "execution_count": null,
   "metadata": {
    "collapsed": true
   },
   "outputs": [],
   "source": [
    "cv2.Vide"
   ]
  },
  {
   "cell_type": "code",
   "execution_count": 2,
   "metadata": {
    "collapsed": true
   },
   "outputs": [],
   "source": [
    "def rect_to_bb(rect):\n",
    "    x=rect.left()\n",
    "    y=rect.top()\n",
    "    w=rect.right()-x\n",
    "    h=rect.bottom()-y\n",
    "    \n",
    "    return (x,y,w,h)"
   ]
  },
  {
   "cell_type": "code",
   "execution_count": 3,
   "metadata": {
    "collapsed": true
   },
   "outputs": [],
   "source": [
    "def empty_distance(number):\n",
    "    shape=np.zeros((20,number))\n",
    "    return shape"
   ]
  },
  {
   "cell_type": "code",
   "execution_count": 4,
   "metadata": {
    "collapsed": true
   },
   "outputs": [],
   "source": [
    "def preprocess_dis(dis_array):\n",
    "    x=dis_array-np.mean(dis_array)\n",
    "    if np.std(dis_array)!=0:\n",
    "        x/=np.std(dis_array)\n",
    "    return x"
   ]
  },
  {
   "cell_type": "code",
   "execution_count": 5,
   "metadata": {
    "collapsed": true
   },
   "outputs": [],
   "source": [
    "def convert_points_to_distance(points):\n",
    "\n",
    "    mid_x=(points[14,0]+points[18,0])/2\n",
    "    mid_y=(points[14,1]+points[18,1])/2\n",
    "    mid_point=np.array([mid_x,mid_y])\n",
    "    points=(points-mid_point)**2\n",
    "    distances_array=np.sqrt((points[:,0]+points[:,1]))\n",
    "    \n",
    "    return preprocess_dis(distances_array)\n",
    "    "
   ]
  },
  {
   "cell_type": "code",
   "execution_count": 6,
   "metadata": {
    "collapsed": true
   },
   "outputs": [],
   "source": [
    "def face_landmarks(image):\n",
    "    #all_images=[]\n",
    "    #for image in images:\n",
    "    gray=cv2.cvtColor(image,cv2.COLOR_BGR2GRAY)\n",
    "    rects=detector(gray,1)\n",
    "    shape=np.zeros((20,2))\n",
    "    for rect in rects:\n",
    "        shape=predictor(gray,rect)\n",
    "        shape=shape_to_np(shape)\n",
    "        shape=shape[48:68]\n",
    "    #all_images.append(shape)\n",
    "\n",
    "    return shape   "
   ]
  },
  {
   "cell_type": "code",
   "execution_count": 7,
   "metadata": {
    "collapsed": true
   },
   "outputs": [],
   "source": [
    "def shape_to_np(shape,dtype='int'):\n",
    "    coords=np.zeros((68,2),dtype=dtype)\n",
    "    for i in range(0,68):\n",
    "        coords[i]=(shape.part(i).x,shape.part(i).y)\n",
    "        \n",
    "    return coords"
   ]
  },
  {
   "cell_type": "code",
   "execution_count": 8,
   "metadata": {
    "collapsed": true
   },
   "outputs": [],
   "source": [
    "args={\n",
    "    \"shape_predictor\":\"shape_predictor_68_face_landmarks.dat\",\n",
    "    \"image\":\"img3.jpg\"\n",
    "}"
   ]
  },
  {
   "cell_type": "code",
   "execution_count": 9,
   "metadata": {
    "collapsed": true
   },
   "outputs": [],
   "source": [
    "detector=dlib.get_frontal_face_detector()\n",
    "predictor=dlib.shape_predictor(args[\"shape_predictor\"])"
   ]
  },
  {
   "cell_type": "code",
   "execution_count": 10,
   "metadata": {
    "scrolled": true
   },
   "outputs": [
    {
     "name": "stderr",
     "output_type": "stream",
     "text": [
      "C:\\Users\\deepu\\Anaconda3\\lib\\site-packages\\h5py\\__init__.py:36: FutureWarning: Conversion of the second argument of issubdtype from `float` to `np.floating` is deprecated. In future, it will be treated as `np.float64 == np.dtype(float).type`.\n",
      "  from ._conv import register_converters as _register_converters\n",
      "Using TensorFlow backend.\n"
     ]
    }
   ],
   "source": [
    "from keras.models import load_model\n",
    "model2=load_model('minor2.h5')"
   ]
  },
  {
   "cell_type": "code",
   "execution_count": 12,
   "metadata": {
    "collapsed": true
   },
   "outputs": [],
   "source": [
    "cap=cv2.VideoCapture(0)\n",
    "star=False\n",
    "images_array=[]\n",
    "while not keyboard.is_pressed('q'):\n",
    "    ret,frame=cap.read()\n",
    "    #print(ret)\n",
    "    if keyboard.is_pressed('s'):\n",
    "        star=not star\n",
    "        if star==True:\n",
    "            images_array=[]\n",
    "        else:\n",
    "            images_size=len(images_array)\n",
    "            \"\"\"if images_size<=10:\n",
    "                images_array=np.append(images_array,empty_distance(10-images_size)).reshape(1,10,20)\n",
    "            else:\n",
    "                move=images_size/10.0\n",
    "                images_array=np.array(images_array)\n",
    "                images_array=images_array[[int(i) for i in np.arange(0,images_size,move)]]\n",
    "                \"\"\"          \n",
    "            images_array=np.array(images_array)\n",
    "            print(model2.predict_classes(images_array.reshape(1,-1,20)))\n",
    "        cv2.waitKey(100)\n",
    "    frame=imutils.resize(frame,width=500)\n",
    "    frame=cv2.imread(\"color_001.jpg\")\n",
    "    gray=cv2.cvtColor(frame,cv2.COLOR_BGR2GRAY)\n",
    "    rects=detector(gray,1)\n",
    "    for rect in rects:\n",
    "        shape=predictor(gray,rect)\n",
    "        shape=shape_to_np(shape)\n",
    "\n",
    "        (x,y,w,h)=rect_to_bb(rect)\n",
    "        cv2.rectangle(frame,(x,y),(x+w,y+h),(0,255,0),2)\n",
    "        for x,y in shape[0:68]:#[50,51,52,53,54]]:\n",
    "            cv2.circle(frame,(x,y),1,(0,0,255),-1)\n",
    "\n",
    "    if star:\n",
    "        points=face_landmarks(frame)\n",
    "        points=convert_points_to_distance(points)\n",
    "        cv2.putText(frame,\"Start\",(150,150),cv2.FONT_HERSHEY_COMPLEX,1,(150,150,150),2,cv2.LINE_AA)\n",
    "        images_array.append(points)\n",
    "    cv2.namedWindow(\"output\",cv2.WINDOW_FULLSCREEN)\n",
    "    #cv2.setWindowProperty(\"output\",cv2.WND_PROP_FULLSCREEN,cv2.WINDOW_FULLSCREEN)\n",
    "    cv2.imshow(\"output\",frame)\n",
    "    \n",
    "    cv2.waitKey(1)\n",
    "    \n",
    "cv2.destroyAllWindows()\n",
    "cap.release()\n"
   ]
  },
  {
   "cell_type": "code",
   "execution_count": 8,
   "metadata": {
    "collapsed": true
   },
   "outputs": [],
   "source": [
    "cv2.destroyAllWindows()\n",
    "cap.release()"
   ]
  },
  {
   "cell_type": "code",
   "execution_count": null,
   "metadata": {
    "collapsed": true
   },
   "outputs": [],
   "source": []
  }
 ],
 "metadata": {
  "kernelspec": {
   "display_name": "Python 3",
   "language": "python",
   "name": "python3"
  },
  "language_info": {
   "codemirror_mode": {
    "name": "ipython",
    "version": 3
   },
   "file_extension": ".py",
   "mimetype": "text/x-python",
   "name": "python",
   "nbconvert_exporter": "python",
   "pygments_lexer": "ipython3",
   "version": "3.6.2"
  }
 },
 "nbformat": 4,
 "nbformat_minor": 2
}
